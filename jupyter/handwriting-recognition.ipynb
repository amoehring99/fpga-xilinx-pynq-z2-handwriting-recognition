{
 "cells": [
  {
   "cell_type": "markdown",
   "id": "c3a8b84b",
   "metadata": {},
   "source": [
    "setup GPIO pins"
   ]
  },
  {
   "cell_type": "code",
   "execution_count": 1,
   "id": "6d4e62c9",
   "metadata": {},
   "outputs": [
    {
     "data": {
      "application/javascript": "\ntry {\nrequire(['notebook/js/codecell'], function(codecell) {\n  codecell.CodeCell.options_default.highlight_modes[\n      'magic_text/x-csrc'] = {'reg':[/^%%microblaze/]};\n  Jupyter.notebook.events.one('kernel_ready.Kernel', function(){\n      Jupyter.notebook.get_cells().map(function(cell){\n          if (cell.cell_type == 'code'){ cell.auto_highlight(); } }) ;\n  });\n});\n} catch (e) {};\n"
     },
     "metadata": {},
     "output_type": "display_data"
    },
    {
     "data": {
      "application/javascript": "\ntry {\nrequire(['notebook/js/codecell'], function(codecell) {\n  codecell.CodeCell.options_default.highlight_modes[\n      'magic_text/x-csrc'] = {'reg':[/^%%pybind11/]};\n  Jupyter.notebook.events.one('kernel_ready.Kernel', function(){\n      Jupyter.notebook.get_cells().map(function(cell){\n          if (cell.cell_type == 'code'){ cell.auto_highlight(); } }) ;\n  });\n});\n} catch (e) {};\n"
     },
     "metadata": {},
     "output_type": "display_data"
    }
   ],
   "source": [
    "from pynq import Overlay\n",
    "bitstream_path = \"./alu_block.bit\" # remember to upload bitstream and hardware_handoff file\n",
    "ps_gpio_design = Overlay(bitstream_path)\n",
    "                         \n",
    "from pynq import GPIO\n",
    "\n",
    "register_size = 8\n",
    "output_size = 9\n",
    "opcode_size = 7\n",
    "gpio_size = 64\n",
    "                         \n",
    "inputA_GPIO = [None] * register_size\n",
    "inputB_GPIO = [None] * register_size\n",
    "opcode_GPIO = [None] * opcode_size\n",
    "\n",
    "output_GPIO = [None] * output_size\n",
    "\n",
    "for idx, pin in enumerate(inputA_GPIO): inputA_GPIO[idx] = GPIO(GPIO.get_gpio_pin(gpio_size - register_size + idx), 'out')\n",
    "for idx, pin in enumerate(inputB_GPIO):  inputB_GPIO[idx]  = GPIO(GPIO.get_gpio_pin(gpio_size - 2 * register_size + idx), 'out')\n",
    "for idx, pin in enumerate(opcode_GPIO):  opcode_GPIO[idx]  = GPIO(GPIO.get_gpio_pin(gpio_size - opcode_size - 2 * register_size + idx), 'out')\n",
    "for idx, pin in enumerate(output_GPIO):  output_GPIO[idx]  = GPIO(GPIO.get_gpio_pin(idx), 'in')"
   ]
  }
 ],
 "metadata": {
  "kernelspec": {
   "display_name": "Python 3 (ipykernel)",
   "language": "python",
   "name": "python3"
  },
  "language_info": {
   "codemirror_mode": {
    "name": "ipython",
    "version": 3
   },
   "file_extension": ".py",
   "mimetype": "text/x-python",
   "name": "python",
   "nbconvert_exporter": "python",
   "pygments_lexer": "ipython3",
   "version": "3.10.4"
  }
 },
 "nbformat": 4,
 "nbformat_minor": 5
}
